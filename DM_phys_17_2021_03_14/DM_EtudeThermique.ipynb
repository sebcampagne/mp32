{
 "cells": [
  {
   "cell_type": "markdown",
   "metadata": {},
   "source": [
    "# DM Etude thermique\n",
    "\n",
    "- author : Sylvie Dagoret-Campagne\n",
    "- afflilation : LAL/IJCLab, CNRS\n",
    "- creation date : Mars 14th 2021\n",
    "- update : \n",
    " "
   ]
  },
  {
   "cell_type": "markdown",
   "metadata": {},
   "source": [
    "## Table des constantes de astropy\n",
    "https://docs.astropy.org/en/stable/constants/"
   ]
  },
  {
   "cell_type": "code",
   "execution_count": 1,
   "metadata": {},
   "outputs": [],
   "source": [
    "from astropy import constants as const"
   ]
  },
  {
   "cell_type": "code",
   "execution_count": 2,
   "metadata": {},
   "outputs": [],
   "source": [
    "from astropy.constants import m_e,c,eps0,e,R_sun"
   ]
  },
  {
   "cell_type": "code",
   "execution_count": 3,
   "metadata": {},
   "outputs": [],
   "source": [
    "from astropy import units as u"
   ]
  },
  {
   "cell_type": "code",
   "execution_count": 4,
   "metadata": {},
   "outputs": [],
   "source": [
    "import numpy as np\n",
    "import matplotlib.pyplot as plt\n",
    "%matplotlib inline"
   ]
  },
  {
   "cell_type": "code",
   "execution_count": 5,
   "metadata": {},
   "outputs": [],
   "source": [
    "import numpy as np\n",
    "import re\n",
    "import time\n",
    "from datetime import datetime,date,timedelta\n",
    "import dateutil.parser\n",
    "import astropy.units as u\n",
    "from astropy.time import Time\n",
    "from astropy.coordinates import SkyCoord, EarthLocation, AltAz\n",
    "from astropy.coordinates import Angle\n",
    "from astropy import units as u"
   ]
  },
  {
   "cell_type": "code",
   "execution_count": 6,
   "metadata": {},
   "outputs": [],
   "source": [
    "import matplotlib\n",
    "import matplotlib.pyplot as plt\n",
    "%matplotlib inline\n",
    "\n",
    "import matplotlib.colors as colors\n",
    "import matplotlib.cm as cmx"
   ]
  },
  {
   "cell_type": "code",
   "execution_count": 7,
   "metadata": {},
   "outputs": [],
   "source": [
    "matplotlib.rcParams.update({'font.size': 15, 'lines.linewidth': 2, 'lines.markersize': 15})\n",
    "matplotlib.rcParams[\"axes.labelsize\"]=\"small\"\n",
    "matplotlib.rcParams[\"axes.linewidth\"]=2.0\n",
    "matplotlib.rcParams[\"xtick.major.size\"]=8\n",
    "matplotlib.rcParams[\"ytick.major.size\"]=8\n",
    "matplotlib.rcParams[\"ytick.minor.size\"]=5\n",
    "matplotlib.rcParams[\"xtick.labelsize\"]=\"large\"\n",
    "matplotlib.rcParams[\"ytick.labelsize\"]=\"large\"\n",
    "matplotlib.rcParams[\"figure.figsize\"]=(8,4)\n",
    "matplotlib.rcParams['axes.titlesize'] = 15\n",
    "matplotlib.rcParams['axes.titleweight'] = 'bold'\n",
    "#matplotlib.rcParams['axes.facecolor'] = 'blue'\n",
    "matplotlib.rcParams['xtick.direction'] = 'out'\n",
    "matplotlib.rcParams['ytick.direction'] = 'out'\n",
    "matplotlib.rcParams['lines.markeredgewidth'] = 0.3 # the line width around the marker symbol\n",
    "matplotlib.rcParams['lines.markersize'] = 10  # markersize, in points\n",
    "matplotlib.rcParams['grid.alpha'] = 1. # transparency, between 0.0 and 1.0\n",
    "matplotlib.rcParams['grid.linestyle'] = '-' # simple line\n",
    "matplotlib.rcParams['grid.linewidth'] = 0.4 # in points "
   ]
  },
  {
   "cell_type": "code",
   "execution_count": 8,
   "metadata": {},
   "outputs": [],
   "source": [
    "from scipy import signal"
   ]
  },
  {
   "cell_type": "code",
   "execution_count": 9,
   "metadata": {},
   "outputs": [],
   "source": [
    "from dateutil.relativedelta import relativedelta"
   ]
  },
  {
   "cell_type": "code",
   "execution_count": null,
   "metadata": {},
   "outputs": [],
   "source": []
  },
  {
   "cell_type": "code",
   "execution_count": 10,
   "metadata": {},
   "outputs": [],
   "source": [
    "today = date.today()\n",
    "string_date=today.strftime(\"%Y-%m-%d\")"
   ]
  },
  {
   "cell_type": "markdown",
   "metadata": {},
   "source": [
    "# Preambule"
   ]
  },
  {
   "cell_type": "markdown",
   "metadata": {},
   "source": [
    "## Question 1.1 : Modélisation de la pièce"
   ]
  },
  {
   "cell_type": "code",
   "execution_count": 11,
   "metadata": {},
   "outputs": [],
   "source": [
    "a = 8.0 # Longueur en m\n",
    "b = 5.  # largeur en m\n",
    "h = 2.5 # hauteur en m"
   ]
  },
  {
   "cell_type": "code",
   "execution_count": 12,
   "metadata": {},
   "outputs": [],
   "source": [
    "Cv_air = 1.25e3 # J/m3/K : capacité thermique volumique de l'air"
   ]
  },
  {
   "cell_type": "code",
   "execution_count": 13,
   "metadata": {},
   "outputs": [],
   "source": [
    "P = 2000. # W : puissance du radiateur "
   ]
  },
  {
   "cell_type": "markdown",
   "metadata": {},
   "source": [
    "### Question 1.1.a : capacité thermique de la piece "
   ]
  },
  {
   "cell_type": "code",
   "execution_count": 14,
   "metadata": {},
   "outputs": [
    {
     "data": {
      "text/plain": [
       "125000.0"
      ]
     },
     "execution_count": 14,
     "metadata": {},
     "output_type": "execute_result"
    }
   ],
   "source": [
    "C = Cv_air*a*b*h # capacité thermique de la pièce\n",
    "C  # J/K"
   ]
  },
  {
   "cell_type": "markdown",
   "metadata": {},
   "source": [
    "### Question 1.1.b : Bilan thermique "
   ]
  },
  {
   "cell_type": "markdown",
   "metadata": {},
   "source": [
    "$$\n",
    "P = C \\frac{dT}{dt}\n",
    "$$\n",
    "\n",
    "d'où\n",
    "\n",
    "$$\n",
    "T = T_0 + \\frac{P}{C}(t-t_0)\n",
    "$$"
   ]
  },
  {
   "cell_type": "markdown",
   "metadata": {},
   "source": [
    "### Question 1.1.c : Durée"
   ]
  },
  {
   "cell_type": "code",
   "execution_count": 15,
   "metadata": {},
   "outputs": [],
   "source": [
    "T_i = 10 # degres\n",
    "T_f = 20 # degres\n",
    "Delta_T = T_f  - T_i"
   ]
  },
  {
   "cell_type": "code",
   "execution_count": 16,
   "metadata": {},
   "outputs": [],
   "source": [
    "t= Delta_T*C/P"
   ]
  },
  {
   "cell_type": "code",
   "execution_count": 17,
   "metadata": {},
   "outputs": [
    {
     "data": {
      "text/plain": [
       "625.0"
      ]
     },
     "execution_count": 17,
     "metadata": {},
     "output_type": "execute_result"
    }
   ],
   "source": [
    "t # temps en secondes pour passer de 10 à 20°"
   ]
  },
  {
   "cell_type": "markdown",
   "metadata": {},
   "source": [
    "$$\n",
    "\\Delta t = 10 min 25 secondes\n",
    "$$"
   ]
  },
  {
   "cell_type": "markdown",
   "metadata": {},
   "source": [
    "## Influence des murs"
   ]
  },
  {
   "cell_type": "markdown",
   "metadata": {},
   "source": [
    "### Paramètres du mur"
   ]
  },
  {
   "cell_type": "code",
   "execution_count": 18,
   "metadata": {},
   "outputs": [],
   "source": [
    "L=0.15 # m : epaisseur des murs"
   ]
  },
  {
   "cell_type": "code",
   "execution_count": 19,
   "metadata": {},
   "outputs": [],
   "source": [
    "c_mur= 1e3 # J kg-1 K-1 : capacité thermique massique du mur"
   ]
  },
  {
   "cell_type": "code",
   "execution_count": 20,
   "metadata": {},
   "outputs": [],
   "source": [
    "rho_mur= 2.2e3 # kg/m3 : densité du mur"
   ]
  },
  {
   "cell_type": "code",
   "execution_count": 21,
   "metadata": {},
   "outputs": [],
   "source": [
    "cond_th_mur=1.5 # W/m/K : conductivité thermique du mur "
   ]
  },
  {
   "cell_type": "markdown",
   "metadata": {},
   "source": [
    "### Question 1.2.a : Surface des murs"
   ]
  },
  {
   "cell_type": "code",
   "execution_count": 22,
   "metadata": {},
   "outputs": [
    {
     "data": {
      "text/plain": [
       "65.0"
      ]
     },
     "execution_count": 22,
     "metadata": {},
     "output_type": "execute_result"
    }
   ],
   "source": [
    "S_p=2*(h)*(a+b)\n",
    "S_p # m2 : surface des murs"
   ]
  },
  {
   "cell_type": "markdown",
   "metadata": {},
   "source": [
    "### Question 1.2.b : Volume des murs et capacité thermique des murs\n",
    "\n",
    "$$\n",
    "V_b = S_p L\n",
    "$$\n",
    "\n",
    "et\n",
    "\n",
    "$$\n",
    "C_{mur} = \\rho S_p L c_{mur}\n",
    "$$"
   ]
  },
  {
   "cell_type": "code",
   "execution_count": 23,
   "metadata": {},
   "outputs": [
    {
     "data": {
      "text/plain": [
       "9.75"
      ]
     },
     "execution_count": 23,
     "metadata": {},
     "output_type": "execute_result"
    }
   ],
   "source": [
    "Vb=S_p*L\n",
    "Vb  #  m3 : volume de béton des murs"
   ]
  },
  {
   "cell_type": "code",
   "execution_count": 24,
   "metadata": {},
   "outputs": [],
   "source": [
    "M_mur=Vb*rho_mur # kg : masse totale du mur "
   ]
  },
  {
   "cell_type": "code",
   "execution_count": 25,
   "metadata": {},
   "outputs": [
    {
     "data": {
      "text/plain": [
       "21450000.0"
      ]
     },
     "execution_count": 25,
     "metadata": {},
     "output_type": "execute_result"
    }
   ],
   "source": [
    "C_mur = c_mur*M_mur  # Capacité thermique des mur\n",
    "C_mur  #  J/K"
   ]
  },
  {
   "cell_type": "code",
   "execution_count": 26,
   "metadata": {},
   "outputs": [
    {
     "data": {
      "text/plain": [
       "125000.0"
      ]
     },
     "execution_count": 26,
     "metadata": {},
     "output_type": "execute_result"
    }
   ],
   "source": [
    "C # capacité calorifique de la pièce"
   ]
  },
  {
   "cell_type": "code",
   "execution_count": 27,
   "metadata": {},
   "outputs": [
    {
     "data": {
      "text/plain": [
       "171.6"
      ]
     },
     "execution_count": 27,
     "metadata": {},
     "output_type": "execute_result"
    }
   ],
   "source": [
    "C_mur/C"
   ]
  },
  {
   "cell_type": "markdown",
   "metadata": {},
   "source": [
    "La capacité calorifique du mur est 172 fois plus grande que celle de l'air de la pièce. Les murs sont capable\n",
    "de stocker plus facilement de la chaleur que l'air.\n",
    "\n",
    "Comme $\\frac{\\Delta T}{dt}= \\frac{P}{C}$, il est plus facile (rapide) d'augmenter la température de l'air que celle du mur."
   ]
  },
  {
   "cell_type": "markdown",
   "metadata": {},
   "source": [
    "# Première partie : équation de la chaleur"
   ]
  },
  {
   "cell_type": "markdown",
   "metadata": {},
   "source": [
    "## Généralités"
   ]
  },
  {
   "cell_type": "markdown",
   "metadata": {},
   "source": [
    "### Question 1.3.a : Loi de Fourier"
   ]
  },
  {
   "cell_type": "markdown",
   "metadata": {},
   "source": [
    "$$\n",
    "\\frac{dQ}{dt} = - S \\lambda  \\nabla  T\n",
    "$$\n",
    "\n",
    "- $\\lambda$ : conductivité thermique en W/m/K"
   ]
  },
  {
   "cell_type": "markdown",
   "metadata": {},
   "source": [
    "### Question 1.3.b : Equation différentielle\n",
    "\n",
    "- Différence entre flux entrant et sortant\n",
    "\n",
    "$$\n",
    "Q(x) = - \\lambda \\frac{dT}{dx}(x)S \\Delta t \\\\\n",
    "Q(x+dx) = - \\lambda \\frac{dT}{dx}(x+dx)S \\Delta t \\\\\n",
    "\\Delta Q = - \\lambda S \\Delta t \\frac{d^2 T}{dx^2}(x)\n",
    "$$"
   ]
  },
  {
   "cell_type": "markdown",
   "metadata": {},
   "source": [
    "- Stockage d'énergie dans l'élément de mur d'épaisseur $dx$ et de masse :\n",
    "\n",
    "$$\n",
    "dM = \\rho S dx \\\\\n",
    "$$\n",
    "\n",
    "- chaleur emmagasinée par le mur\n",
    "$$\n",
    "dQ_{abs} = - c_{mur} \\rho dx dT\n",
    "$$"
   ]
  },
  {
   "cell_type": "markdown",
   "metadata": {},
   "source": [
    "$$\n",
    "\\Delta Q = dQ_{abs}\n",
    "$$\n",
    "\n",
    "L'équation différentielle est:\n",
    "$$\n",
    "\\lambda \\frac{d^2 T}{dx^2} - \\rho c_{mur} \\frac{dT}{dt} =0\n",
    "$$"
   ]
  },
  {
   "cell_type": "markdown",
   "metadata": {},
   "source": [
    "## Etude du régime stationnaire : 1.4"
   ]
  },
  {
   "cell_type": "code",
   "execution_count": 28,
   "metadata": {},
   "outputs": [],
   "source": [
    "Tint=20\n",
    "Text=10\n",
    "DT=Tint-Text"
   ]
  },
  {
   "cell_type": "markdown",
   "metadata": {},
   "source": [
    "### Question 1.4.a : définition du régime stationnaire"
   ]
  },
  {
   "cell_type": "markdown",
   "metadata": {},
   "source": [
    "$$\n",
    "\\frac{dT}{dt} = 0\n",
    "$$"
   ]
  },
  {
   "cell_type": "markdown",
   "metadata": {},
   "source": [
    "### Question 1.4.b : Résoudre l'équation en régime stationnaire:\n",
    "\n",
    "$$\n",
    "T(x) = T_{int} + \\frac{x}{L}(T_{ext}-T_{int})\n",
    "$$"
   ]
  },
  {
   "cell_type": "code",
   "execution_count": 29,
   "metadata": {},
   "outputs": [],
   "source": [
    "def T(x):\n",
    "    \"\"\"\n",
    "    \"\"\" \n",
    "    y=np.where(x<0,0,x)\n",
    "    z=np.where(x>L,L,y)\n",
    "    \n",
    "    \n",
    "    Tx= Tint - x/L*DT\n",
    "    return Tx"
   ]
  },
  {
   "cell_type": "code",
   "execution_count": 30,
   "metadata": {},
   "outputs": [
    {
     "data": {
      "text/plain": [
       "Text(0, 0.5, 'T(x) (m)')"
      ]
     },
     "execution_count": 30,
     "metadata": {},
     "output_type": "execute_result"
    },
    {
     "data": {
      "image/png": "[encoded data removed]",
      "text/plain": [
       "<Figure size 576x288 with 1 Axes>"
      ]
     },
     "metadata": {
      "needs_background": "light"
     },
     "output_type": "display_data"
    }
   ],
   "source": [
    "x=np.linspace(0,0.20,100)\n",
    "plt.plot(x,T(x))\n",
    "plt.xlabel(\"x (m)\")\n",
    "plt.ylabel(\"T(x) (m)\")"
   ]
  },
  {
   "cell_type": "markdown",
   "metadata": {},
   "source": [
    "### Question 1.4.c : Température moyenne"
   ]
  },
  {
   "cell_type": "markdown",
   "metadata": {},
   "source": [
    "$$\n",
    "T_{moy} = \\frac{1}{L} \\int_{x=0}^{x=L} T(x) dx\n",
    "$$"
   ]
  },
  {
   "cell_type": "markdown",
   "metadata": {},
   "source": [
    "$$\n",
    "T_{moy} = \\frac{T_{int}+T_{ext}}{2}\n",
    "$$"
   ]
  },
  {
   "cell_type": "markdown",
   "metadata": {},
   "source": [
    "$$\n",
    "x_p = \\frac{L}{2}\n",
    "$$"
   ]
  },
  {
   "cell_type": "markdown",
   "metadata": {},
   "source": [
    "### Question 1.4.d : Flux qui traverse le mur"
   ]
  },
  {
   "cell_type": "markdown",
   "metadata": {},
   "source": [
    "$$\n",
    "j = - \\lambda \\nabla T = - \\frac{\\lambda}{L}(T_{ext}-T_{int})\n",
    "$$\n",
    "\n",
    "- Le flux est indépendant de $x$"
   ]
  },
  {
   "cell_type": "markdown",
   "metadata": {},
   "source": [
    "### Question 1.4.e : Puissance du radiateur pour maintenir une température de 20 degrés dans la pièce"
   ]
  },
  {
   "cell_type": "markdown",
   "metadata": {},
   "source": [
    "$$\n",
    "P = \\frac{dQ}{dt} = j \\cdot S = \\frac{\\lambda S}{L}(T_{ext}-T_{int})\n",
    "$$"
   ]
  },
  {
   "cell_type": "code",
   "execution_count": 31,
   "metadata": {},
   "outputs": [
    {
     "data": {
      "text/plain": [
       "6500.0"
      ]
     },
     "execution_count": 31,
     "metadata": {},
     "output_type": "execute_result"
    }
   ],
   "source": [
    "P=S_p*cond_th_mur/L*DT\n",
    "P  # en W"
   ]
  },
  {
   "cell_type": "markdown",
   "metadata": {},
   "source": [
    "## Résistance thermique"
   ]
  },
  {
   "cell_type": "markdown",
   "metadata": {},
   "source": [
    "### Question 1.5.a"
   ]
  },
  {
   "cell_type": "markdown",
   "metadata": {},
   "source": [
    "- Loi d'Ohm\n",
    "$$\n",
    "j = \\sigma E\n",
    "$$"
   ]
  },
  {
   "cell_type": "markdown",
   "metadata": {},
   "source": [
    "### Question 1.5.b : Résistance thermique du mur\n",
    "\n",
    "$$\n",
    "R_{th} = \\frac{1}{\\lambda} \\frac{L}{S}\n",
    "$$"
   ]
  },
  {
   "cell_type": "code",
   "execution_count": 32,
   "metadata": {},
   "outputs": [
    {
     "data": {
      "text/plain": [
       "0.0015384615384615382"
      ]
     },
     "execution_count": 32,
     "metadata": {},
     "output_type": "execute_result"
    }
   ],
   "source": [
    "Rth_mur= 1/cond_th_mur*L/S_p\n",
    "Rth_mur # résistance thermique du mur en K/W"
   ]
  },
  {
   "cell_type": "markdown",
   "metadata": {},
   "source": [
    "# Deuxième partie : modélisation électrique"
   ]
  },
  {
   "cell_type": "markdown",
   "metadata": {},
   "source": [
    "## Circuit électrique : 1.6"
   ]
  },
  {
   "cell_type": "markdown",
   "metadata": {},
   "source": [
    "### Question 1.6.b circuit en régime permanent continu\n",
    "\n",
    "- équation électrique\n",
    "$$\n",
    "U = (R_1+R_2) i\n",
    "$$\n",
    "\n",
    "- equation thermique\n",
    "$$\n",
    "P_{th} = \\frac{T_{int}-T_{ext}}{R_{th 1}+ R_{th2}}\n",
    "$$"
   ]
  },
  {
   "cell_type": "code",
   "execution_count": 33,
   "metadata": {},
   "outputs": [],
   "source": [
    "Rth1=Rth_mur/2\n",
    "Rth2=Rth_mur/2"
   ]
  },
  {
   "cell_type": "code",
   "execution_count": 34,
   "metadata": {},
   "outputs": [
    {
     "data": {
      "text/plain": [
       "0.0007692307692307691"
      ]
     },
     "execution_count": 34,
     "metadata": {},
     "output_type": "execute_result"
    }
   ],
   "source": [
    "Rth1 # K/W"
   ]
  },
  {
   "cell_type": "markdown",
   "metadata": {},
   "source": [
    "## Etablissement de l'expression de l'impédance : 1.7"
   ]
  },
  {
   "cell_type": "markdown",
   "metadata": {},
   "source": [
    "###  Question 1.7.a\n",
    "\n",
    "$$\n",
    "Z_2 = \\frac{R_2}{1+j R_2 C_2 \\omega}\n",
    "$$"
   ]
  },
  {
   "cell_type": "markdown",
   "metadata": {},
   "source": [
    "### Question 1.7.b \n",
    "\n",
    "$$\n",
    "Z_1 = R_1 + Z_2\n",
    "$$"
   ]
  },
  {
   "cell_type": "markdown",
   "metadata": {},
   "source": [
    "### Question 1.7.c"
   ]
  },
  {
   "cell_type": "markdown",
   "metadata": {},
   "source": [
    "$$\n",
    "Z_1 = R_1 + \\frac{R_2}{1+j R_2 C_2 \\omega} = \\frac{(R_1+R_2)+j R_1 R_2 C_2 \\omega}{1+j R_2 C_2 \\omega} \\\\\n",
    "Y_1 = \\frac{1+j R_2 C_2 \\omega}{(R_1+R_2)+j R_1 R_2 C_2 \\omega}\n",
    "$$"
   ]
  },
  {
   "cell_type": "markdown",
   "metadata": {},
   "source": [
    "$$\n",
    "Y_{tot} = j C_1 \\omega + Y_1 = j C_1 \\omega + \\frac{1+j R_2 C_2 \\omega}{(R_1+R_2)+j R_1 R_2 C_2 \\omega}\n",
    "$$"
   ]
  },
  {
   "cell_type": "markdown",
   "metadata": {},
   "source": [
    "### Question 1.7.d"
   ]
  },
  {
   "cell_type": "markdown",
   "metadata": {},
   "source": [
    "$$\n",
    "\\frac{U_1}{I_0} = \\frac{1 + j \\frac{R_1 R_2}{R_1+R_2}C_2 \\omega}{1 + j\\left((R_1+R_2)C_1 +R_2C_2\\right)\\omega -R_1R_2C_1C_2 \\omega^2}(R_1+R_2)\n",
    "$$"
   ]
  },
  {
   "cell_type": "markdown",
   "metadata": {},
   "source": [
    "## Exploitation"
   ]
  },
  {
   "cell_type": "markdown",
   "metadata": {},
   "source": [
    "### Question 1.8.a"
   ]
  },
  {
   "cell_type": "markdown",
   "metadata": {},
   "source": [
    "$$\n",
    "\\lim_{\\omega \\rightarrow 0} \\frac{U_1}{I_0} = (R_1+R_2) \n",
    "$$"
   ]
  },
  {
   "cell_type": "markdown",
   "metadata": {},
   "source": [
    "### Question 1.8.b\n",
    "\n",
    "$$\n",
    "\\lim_{\\omega \\rightarrow \\infty} \\frac{U_1}{I_0} = \\frac{1}{jC_1 \\omega} \n",
    "$$"
   ]
  },
  {
   "cell_type": "markdown",
   "metadata": {},
   "source": [
    "### Question 1.8.c\n",
    "\n",
    "- **C'est un filtre passe bas du 1er ordre**"
   ]
  },
  {
   "cell_type": "markdown",
   "metadata": {},
   "source": [
    "### Question 1.8.d"
   ]
  },
  {
   "cell_type": "markdown",
   "metadata": {},
   "source": [
    "$$\n",
    "\\frac{U_1}{I_0} = R \\frac{1 + j \\frac{\\alpha}{4} RC \\omega}{1 + j RC (1+ \\frac{\\alpha}{2})\\omega - \\frac{\\alpha}{4}(RC)^2 \\omega^2}\n",
    "$$"
   ]
  },
  {
   "cell_type": "markdown",
   "metadata": {},
   "source": [
    "On pose:\n",
    "$\n",
    "\\omega_0 = \\frac{2}{\\sqrt{\\alpha} RC} \\\\\n",
    "\\omega_1 = \\frac{4}{\\alpha RC} \\\\\n",
    "Q = 2 \\frac{1 + \\frac{\\alpha}{2}}{\\sqrt{\\alpha}}\n",
    "$"
   ]
  },
  {
   "cell_type": "markdown",
   "metadata": {},
   "source": [
    "$$\n",
    "\\frac{U_1}{I_0} = R \\frac{1+j \\frac{\\omega}{\\omega_1}}{1 + j Q \\frac{\\omega}{\\omega_0} + \\left( \\frac{\\omega}{\\omega_0}\\right)^2}\n",
    "$$"
   ]
  },
  {
   "cell_type": "markdown",
   "metadata": {},
   "source": [
    "- Notons que : \n",
    "$\n",
    "\\frac{\\omega_1}{\\omega_0} = \\frac{2}{\\sqrt{\\alpha}}\n",
    "$\n",
    "\n",
    "et donc pour $\\alpha$ grand, $\\omega_1 \\ll \\omega_0$\n",
    "\n",
    "- Notons que $Q >> 2 $ pour $\\alpha$ grand, $\\omega_1 \\ll \\omega_0$, le régime est donc très atténué"
   ]
  },
  {
   "cell_type": "code",
   "execution_count": 35,
   "metadata": {},
   "outputs": [
    {
     "data": {
      "text/plain": [
       "32999.99999999999"
      ]
     },
     "execution_count": 35,
     "metadata": {},
     "output_type": "execute_result"
    }
   ],
   "source": [
    "alpha = 200\n",
    "RC= Rth_mur * C_mur\n",
    "RC"
   ]
  },
  {
   "cell_type": "markdown",
   "metadata": {},
   "source": [
    "### Diagrame de Bode calculé par moi (faux) "
   ]
  },
  {
   "cell_type": "code",
   "execution_count": 36,
   "metadata": {},
   "outputs": [],
   "source": [
    "def H(x):\n",
    "    \"\"\"\n",
    "    Fonction de transfert (complexe)\n",
    "    \"\"\"\n",
    "    y = (1+1j/4*alpha*x)/(1 + 1j*RC*x*(1+alpha/2)-alpha/4*RC**2*x**2)\n",
    "    return y"
   ]
  },
  {
   "cell_type": "code",
   "execution_count": 37,
   "metadata": {},
   "outputs": [],
   "source": [
    "def Mod(x):\n",
    "    \"\"\"\n",
    "    Module de la fonction de transfert\n",
    "    \"\"\"\n",
    "    return np.abs(H(x))"
   ]
  },
  {
   "cell_type": "code",
   "execution_count": 38,
   "metadata": {},
   "outputs": [],
   "source": [
    "def Arg(x):\n",
    "    \"\"\"\n",
    "    Argument de la fonction de transfert\n",
    "    \"\"\"\n",
    "    \n",
    "    realpart = np.real(H(x))\n",
    "    imagpart = np.imag(H(x))\n",
    "    \n",
    "    #angle = np.where(realpart > 0, np.angle(H(x)),  np.angle(H(x)) )\n",
    "    \n",
    "    angle = np.angle(H(x))\n",
    "    \n",
    "    return angle"
   ]
  },
  {
   "cell_type": "code",
   "execution_count": 39,
   "metadata": {},
   "outputs": [],
   "source": [
    "# Valeur des Omega en rad/s\n",
    "X = np.logspace(-8,-2,1000,base=10)"
   ]
  },
  {
   "cell_type": "code",
   "execution_count": 40,
   "metadata": {},
   "outputs": [],
   "source": [
    "# Module du Gain\n",
    "G = Mod(X)"
   ]
  },
  {
   "cell_type": "code",
   "execution_count": 41,
   "metadata": {},
   "outputs": [],
   "source": [
    "# Phase du Gain\n",
    "Phi= Arg(X)*180./np.pi"
   ]
  },
  {
   "cell_type": "code",
   "execution_count": 42,
   "metadata": {},
   "outputs": [
    {
     "data": {
      "image/png": "[encoded data removed]",
      "text/plain": [
       "<Figure size 720x360 with 1 Axes>"
      ]
     },
     "metadata": {
      "needs_background": "light"
     },
     "output_type": "display_data"
    },
    {
     "data": {
      "image/png": "[encoded data removed]",
      "text/plain": [
       "<Figure size 720x360 with 1 Axes>"
      ]
     },
     "metadata": {
      "needs_background": "light"
     },
     "output_type": "display_data"
    }
   ],
   "source": [
    "# Gain\n",
    "plt.figure(figsize=(10,5))\n",
    "#plt.loglog(X,G,\"b-\")\n",
    "plt.plot(X,20*np.log10(G),\"b-\")\n",
    "plt.grid()\n",
    "plt.xlabel(\"$\\omega$ (rad/s)\")\n",
    "plt.ylabel(\"G (dB)\")\n",
    "plt.title(\"Gain\")\n",
    "plt.xscale(\"log\")\n",
    "plt.show()\n",
    "\n",
    "# Phase\n",
    "plt.figure(figsize=(10,5))\n",
    "plt.semilogx(X,Phi,\"b-\")\n",
    "plt.grid()\n",
    "plt.xlabel(\"x\")\n",
    "plt.ylabel(\"$\\\\Phi$\")\n",
    "plt.title(\"Phase\")\n",
    "plt.show()"
   ]
  },
  {
   "cell_type": "markdown",
   "metadata": {},
   "source": [
    "### Diagramme de Bode calculé par scipy.signal (juste)"
   ]
  },
  {
   "cell_type": "code",
   "execution_count": 43,
   "metadata": {},
   "outputs": [],
   "source": [
    "omega_0= 2/np.sqrt(alpha)/RC\n",
    "omega_1= 4/alpha/RC\n",
    "Q= 2*(1+alpha/2)/np.sqrt(alpha)"
   ]
  },
  {
   "cell_type": "code",
   "execution_count": 44,
   "metadata": {},
   "outputs": [
    {
     "data": {
      "text/plain": [
       "[1649999.9999999995, 1.0]"
      ]
     },
     "execution_count": 44,
     "metadata": {},
     "output_type": "execute_result"
    }
   ],
   "source": [
    "# numérateur de la fonction de la transformée de Laplace (bp +c) [b,c]\n",
    "num = [ 1./omega_1 , 1. ]\n",
    "num"
   ]
  },
  {
   "cell_type": "code",
   "execution_count": 45,
   "metadata": {},
   "outputs": [
    {
     "data": {
      "text/plain": [
       "[54449999999.999985, 3332999.9999999995, 1.0]"
      ]
     },
     "execution_count": 45,
     "metadata": {},
     "output_type": "execute_result"
    }
   ],
   "source": [
    "# dénominateur de la fonction de la transformée de Laplace (ap2 +bp +c) [a,b,c]\n",
    "den = [1./omega_0**2, Q/omega_0,  1.]\n",
    "den"
   ]
  },
  {
   "cell_type": "code",
   "execution_count": 46,
   "metadata": {},
   "outputs": [],
   "source": [
    "s1 = signal.lti(num,den)\n",
    "w, mag, phase = signal.bode(s1,w=X)"
   ]
  },
  {
   "cell_type": "code",
   "execution_count": 47,
   "metadata": {},
   "outputs": [
    {
     "data": {
      "image/png": "[encoded data removed]",
      "text/plain": [
       "<Figure size 720x720 with 2 Axes>"
      ]
     },
     "metadata": {
      "needs_background": "light"
     },
     "output_type": "display_data"
    }
   ],
   "source": [
    "plt.figure(figsize=(10,10))\n",
    "plt.subplot(2,1,1)\n",
    "plt.semilogx(w, mag,\"b\")    # Bode magnitude plot\n",
    "plt.grid()\n",
    "plt.xlabel(\"$\\omega$ (rad/s)\")\n",
    "plt.ylabel(\"G\")\n",
    "plt.title(\"Gain\")\n",
    "\n",
    "\n",
    "plt.subplot(2,1,2)\n",
    "plt.semilogx(w, phase,\"b\")  # Bode phase plot\n",
    "plt.grid()\n",
    "plt.xlabel(\"$\\omega$ (rad/s)\")\n",
    "plt.ylabel(\"$\\\\Phi$\")\n",
    "plt.title(\"Phase\")\n",
    "\n",
    "plt.tight_layout()\n",
    "plt.show()"
   ]
  },
  {
   "cell_type": "markdown",
   "metadata": {},
   "source": [
    "On voit mieux avec la phase quand $\\omega_1$ provoque la remontée de la phase"
   ]
  },
  {
   "cell_type": "markdown",
   "metadata": {},
   "source": [
    "# Troisieme partie : Isolation"
   ]
  },
  {
   "cell_type": "code",
   "execution_count": 48,
   "metadata": {},
   "outputs": [],
   "source": [
    "e=0.05\n",
    "cond_th_is=0.05"
   ]
  },
  {
   "cell_type": "code",
   "execution_count": 49,
   "metadata": {},
   "outputs": [
    {
     "data": {
      "text/plain": [
       "0.015384615384615385"
      ]
     },
     "execution_count": 49,
     "metadata": {},
     "output_type": "execute_result"
    }
   ],
   "source": [
    "Rth_is=1/cond_th_is*e/S_p\n",
    "Rth_is"
   ]
  },
  {
   "cell_type": "code",
   "execution_count": 50,
   "metadata": {},
   "outputs": [
    {
     "data": {
      "text/plain": [
       "0.0015384615384615382"
      ]
     },
     "execution_count": 50,
     "metadata": {},
     "output_type": "execute_result"
    }
   ],
   "source": [
    "Rth_mur"
   ]
  },
  {
   "cell_type": "code",
   "execution_count": 51,
   "metadata": {},
   "outputs": [
    {
     "data": {
      "text/plain": [
       "590.9090909090909"
      ]
     },
     "execution_count": 51,
     "metadata": {},
     "output_type": "execute_result"
    }
   ],
   "source": [
    "P=Delta_T/(Rth_mur+Rth_is)\n",
    "P"
   ]
  },
  {
   "cell_type": "markdown",
   "metadata": {},
   "source": [
    "##### 600 W, on gagne un facteur 10 de la puissance consomée"
   ]
  },
  {
   "cell_type": "code",
   "execution_count": null,
   "metadata": {},
   "outputs": [],
   "source": []
  }
 ],
 "metadata": {
  "kernelspec": {
   "display_name": "Python 3",
   "language": "python",
   "name": "python3"
  },
  "language_info": {
   "codemirror_mode": {
    "name": "ipython",
    "version": 3
   },
   "file_extension": ".py",
   "mimetype": "text/x-python",
   "name": "python",
   "nbconvert_exporter": "python",
   "pygments_lexer": "ipython3",
   "version": "3.7.7"
  },
  "toc": {
   "base_numbering": 1,
   "nav_menu": {},
   "number_sections": true,
   "sideBar": true,
   "skip_h1_title": false,
   "title_cell": "Table of Contents",
   "title_sidebar": "Contents",
   "toc_cell": false,
   "toc_position": {},
   "toc_section_display": true,
   "toc_window_display": false
  }
 },
 "nbformat": 4,
 "nbformat_minor": 4
}
